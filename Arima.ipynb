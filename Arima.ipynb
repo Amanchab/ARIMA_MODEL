{
 "cells": [
  {
   "cell_type": "markdown",
   "id": "0e944af1",
   "metadata": {},
   "source": [
    "# Arima Model\n"
   ]
  },
  {
   "cell_type": "markdown",
   "id": "114d5633",
   "metadata": {},
   "source": [
    "Data Preparation "
   ]
  },
  {
   "cell_type": "code",
   "execution_count": 1,
   "id": "e9c8ee7c",
   "metadata": {},
   "outputs": [],
   "source": [
    "import pandas as pd\n",
    "import numpy as np\n",
    "import seaborn as sns\n",
    "import matplotlib.pyplot as plt\n",
    "from matplotlib import pyplot\n",
    "from pandas import DataFrame\n",
    "import os\n",
    "import statsmodels.api as sm\n",
    "from statsmodels.tsa.seasonal import seasonal_decompose\n",
    "import math\n",
    "from statsmodels.tsa.stattools import adfuller\n",
    "from pmdarima import auto_arima\n",
    "from pandas.plotting import autocorrelation_plot\n",
    "from statsmodels.tsa.statespace.sarimax import SARIMAX\n",
    "from statsmodels.tools.eval_measures import rmse\n",
    "from sklearn.metrics import mean_squared_error, r2_score\n",
    "from math import sqrt\n",
    "from statsmodels.graphics.tsaplots import plot_acf, plot_pacf\n",
    "\n",
    "from statsmodels.tsa.arima.model import ARIMA"
   ]
  },
  {
   "cell_type": "code",
   "execution_count": 2,
   "id": "9ea84f6d",
   "metadata": {},
   "outputs": [],
   "source": [
    "pd.set_option('display.max_columns', None)\n"
   ]
  },
  {
   "cell_type": "code",
   "execution_count": 3,
   "id": "a9fa3838",
   "metadata": {},
   "outputs": [],
   "source": [
    "df = pd.read_csv(\"US_Regional_Sales_Data.csv\")"
   ]
  },
  {
   "cell_type": "code",
   "execution_count": 4,
   "id": "ddeaa838",
   "metadata": {},
   "outputs": [
    {
     "data": {
      "text/html": [
       "<div>\n",
       "<style scoped>\n",
       "    .dataframe tbody tr th:only-of-type {\n",
       "        vertical-align: middle;\n",
       "    }\n",
       "\n",
       "    .dataframe tbody tr th {\n",
       "        vertical-align: top;\n",
       "    }\n",
       "\n",
       "    .dataframe thead th {\n",
       "        text-align: right;\n",
       "    }\n",
       "</style>\n",
       "<table border=\"1\" class=\"dataframe\">\n",
       "  <thead>\n",
       "    <tr style=\"text-align: right;\">\n",
       "      <th></th>\n",
       "      <th>OrderNumber</th>\n",
       "      <th>Sales Channel</th>\n",
       "      <th>WarehouseCode</th>\n",
       "      <th>ProcuredDate</th>\n",
       "      <th>OrderDate</th>\n",
       "      <th>ShipDate</th>\n",
       "      <th>DeliveryDate</th>\n",
       "      <th>CurrencyCode</th>\n",
       "      <th>_SalesTeamID</th>\n",
       "      <th>_CustomerID</th>\n",
       "      <th>_StoreID</th>\n",
       "      <th>_ProductID</th>\n",
       "      <th>Order Quantity</th>\n",
       "      <th>Discount Applied</th>\n",
       "      <th>Unit Cost</th>\n",
       "      <th>Unit Price</th>\n",
       "    </tr>\n",
       "  </thead>\n",
       "  <tbody>\n",
       "    <tr>\n",
       "      <th>0</th>\n",
       "      <td>SO - 000101</td>\n",
       "      <td>In-Store</td>\n",
       "      <td>WARE-UHY1004</td>\n",
       "      <td>31/12/17</td>\n",
       "      <td>31/5/18</td>\n",
       "      <td>14/6/18</td>\n",
       "      <td>19/6/18</td>\n",
       "      <td>USD</td>\n",
       "      <td>6</td>\n",
       "      <td>15</td>\n",
       "      <td>259</td>\n",
       "      <td>12</td>\n",
       "      <td>5</td>\n",
       "      <td>0.075</td>\n",
       "      <td>1,001.18</td>\n",
       "      <td>1,963.10</td>\n",
       "    </tr>\n",
       "    <tr>\n",
       "      <th>1</th>\n",
       "      <td>SO - 000102</td>\n",
       "      <td>Online</td>\n",
       "      <td>WARE-NMK1003</td>\n",
       "      <td>31/12/17</td>\n",
       "      <td>31/5/18</td>\n",
       "      <td>22/6/18</td>\n",
       "      <td>2/7/18</td>\n",
       "      <td>USD</td>\n",
       "      <td>14</td>\n",
       "      <td>20</td>\n",
       "      <td>196</td>\n",
       "      <td>27</td>\n",
       "      <td>3</td>\n",
       "      <td>0.075</td>\n",
       "      <td>3,348.66</td>\n",
       "      <td>3,939.60</td>\n",
       "    </tr>\n",
       "    <tr>\n",
       "      <th>2</th>\n",
       "      <td>SO - 000103</td>\n",
       "      <td>Distributor</td>\n",
       "      <td>WARE-UHY1004</td>\n",
       "      <td>31/12/17</td>\n",
       "      <td>31/5/18</td>\n",
       "      <td>21/6/18</td>\n",
       "      <td>1/7/18</td>\n",
       "      <td>USD</td>\n",
       "      <td>21</td>\n",
       "      <td>16</td>\n",
       "      <td>213</td>\n",
       "      <td>16</td>\n",
       "      <td>1</td>\n",
       "      <td>0.050</td>\n",
       "      <td>781.22</td>\n",
       "      <td>1,775.50</td>\n",
       "    </tr>\n",
       "    <tr>\n",
       "      <th>3</th>\n",
       "      <td>SO - 000104</td>\n",
       "      <td>Wholesale</td>\n",
       "      <td>WARE-NMK1003</td>\n",
       "      <td>31/12/17</td>\n",
       "      <td>31/5/18</td>\n",
       "      <td>2/6/18</td>\n",
       "      <td>7/6/18</td>\n",
       "      <td>USD</td>\n",
       "      <td>28</td>\n",
       "      <td>48</td>\n",
       "      <td>107</td>\n",
       "      <td>23</td>\n",
       "      <td>8</td>\n",
       "      <td>0.075</td>\n",
       "      <td>1,464.69</td>\n",
       "      <td>2,324.90</td>\n",
       "    </tr>\n",
       "    <tr>\n",
       "      <th>4</th>\n",
       "      <td>SO - 000105</td>\n",
       "      <td>Distributor</td>\n",
       "      <td>WARE-NMK1003</td>\n",
       "      <td>10/4/18</td>\n",
       "      <td>31/5/18</td>\n",
       "      <td>16/6/18</td>\n",
       "      <td>26/6/18</td>\n",
       "      <td>USD</td>\n",
       "      <td>22</td>\n",
       "      <td>49</td>\n",
       "      <td>111</td>\n",
       "      <td>26</td>\n",
       "      <td>8</td>\n",
       "      <td>0.100</td>\n",
       "      <td>1,476.14</td>\n",
       "      <td>1,822.40</td>\n",
       "    </tr>\n",
       "  </tbody>\n",
       "</table>\n",
       "</div>"
      ],
      "text/plain": [
       "   OrderNumber Sales Channel WarehouseCode ProcuredDate OrderDate ShipDate  \\\n",
       "0  SO - 000101      In-Store  WARE-UHY1004     31/12/17   31/5/18  14/6/18   \n",
       "1  SO - 000102        Online  WARE-NMK1003     31/12/17   31/5/18  22/6/18   \n",
       "2  SO - 000103   Distributor  WARE-UHY1004     31/12/17   31/5/18  21/6/18   \n",
       "3  SO - 000104     Wholesale  WARE-NMK1003     31/12/17   31/5/18   2/6/18   \n",
       "4  SO - 000105   Distributor  WARE-NMK1003      10/4/18   31/5/18  16/6/18   \n",
       "\n",
       "  DeliveryDate CurrencyCode  _SalesTeamID  _CustomerID  _StoreID  _ProductID  \\\n",
       "0      19/6/18          USD             6           15       259          12   \n",
       "1       2/7/18          USD            14           20       196          27   \n",
       "2       1/7/18          USD            21           16       213          16   \n",
       "3       7/6/18          USD            28           48       107          23   \n",
       "4      26/6/18          USD            22           49       111          26   \n",
       "\n",
       "   Order Quantity  Discount Applied Unit Cost Unit Price  \n",
       "0               5             0.075  1,001.18   1,963.10  \n",
       "1               3             0.075  3,348.66   3,939.60  \n",
       "2               1             0.050    781.22   1,775.50  \n",
       "3               8             0.075  1,464.69   2,324.90  \n",
       "4               8             0.100  1,476.14   1,822.40  "
      ]
     },
     "execution_count": 4,
     "metadata": {},
     "output_type": "execute_result"
    }
   ],
   "source": [
    "df.head()"
   ]
  },
  {
   "cell_type": "code",
   "execution_count": 5,
   "id": "7352827e",
   "metadata": {},
   "outputs": [],
   "source": [
    "df = df.drop(['WarehouseCode','ProcuredDate','_SalesTeamID','_CustomerID','_StoreID','DeliveryDate','ShipDate','Sales Channel','Unit Cost','Discount Applied','_ProductID','OrderNumber'],axis=1)"
   ]
  },
  {
   "cell_type": "code",
   "execution_count": 6,
   "id": "faf58a76",
   "metadata": {
    "scrolled": true
   },
   "outputs": [
    {
     "data": {
      "text/html": [
       "<div>\n",
       "<style scoped>\n",
       "    .dataframe tbody tr th:only-of-type {\n",
       "        vertical-align: middle;\n",
       "    }\n",
       "\n",
       "    .dataframe tbody tr th {\n",
       "        vertical-align: top;\n",
       "    }\n",
       "\n",
       "    .dataframe thead th {\n",
       "        text-align: right;\n",
       "    }\n",
       "</style>\n",
       "<table border=\"1\" class=\"dataframe\">\n",
       "  <thead>\n",
       "    <tr style=\"text-align: right;\">\n",
       "      <th></th>\n",
       "      <th>OrderDate</th>\n",
       "      <th>CurrencyCode</th>\n",
       "      <th>Order Quantity</th>\n",
       "      <th>Unit Price</th>\n",
       "    </tr>\n",
       "  </thead>\n",
       "  <tbody>\n",
       "    <tr>\n",
       "      <th>0</th>\n",
       "      <td>31/5/18</td>\n",
       "      <td>USD</td>\n",
       "      <td>5</td>\n",
       "      <td>1,963.10</td>\n",
       "    </tr>\n",
       "    <tr>\n",
       "      <th>1</th>\n",
       "      <td>31/5/18</td>\n",
       "      <td>USD</td>\n",
       "      <td>3</td>\n",
       "      <td>3,939.60</td>\n",
       "    </tr>\n",
       "    <tr>\n",
       "      <th>2</th>\n",
       "      <td>31/5/18</td>\n",
       "      <td>USD</td>\n",
       "      <td>1</td>\n",
       "      <td>1,775.50</td>\n",
       "    </tr>\n",
       "    <tr>\n",
       "      <th>3</th>\n",
       "      <td>31/5/18</td>\n",
       "      <td>USD</td>\n",
       "      <td>8</td>\n",
       "      <td>2,324.90</td>\n",
       "    </tr>\n",
       "    <tr>\n",
       "      <th>4</th>\n",
       "      <td>31/5/18</td>\n",
       "      <td>USD</td>\n",
       "      <td>8</td>\n",
       "      <td>1,822.40</td>\n",
       "    </tr>\n",
       "  </tbody>\n",
       "</table>\n",
       "</div>"
      ],
      "text/plain": [
       "  OrderDate CurrencyCode  Order Quantity Unit Price\n",
       "0   31/5/18          USD               5   1,963.10\n",
       "1   31/5/18          USD               3   3,939.60\n",
       "2   31/5/18          USD               1   1,775.50\n",
       "3   31/5/18          USD               8   2,324.90\n",
       "4   31/5/18          USD               8   1,822.40"
      ]
     },
     "execution_count": 6,
     "metadata": {},
     "output_type": "execute_result"
    }
   ],
   "source": [
    "df.head()"
   ]
  },
  {
   "cell_type": "code",
   "execution_count": 7,
   "id": "eaaf8f5c",
   "metadata": {},
   "outputs": [],
   "source": [
    "df['OrderDate'] = pd.to_datetime(df['OrderDate'])  # Convert 'OrderDate' to datetime if not already\n",
    "\n",
    "df['Unit Price'] = pd.to_numeric(df['Unit Price'].str.replace(',', ''), errors='coerce')\n"
   ]
  },
  {
   "cell_type": "code",
   "execution_count": 8,
   "id": "efb2c63e",
   "metadata": {},
   "outputs": [],
   "source": [
    "df = df.groupby('OrderDate').agg({\n",
    "    'CurrencyCode': 'first',\n",
    "    'Order Quantity': 'sum',\n",
    "    'Unit Price': 'sum'\n",
    "}).reset_index()\n",
    "df['OrderDate'] = df['OrderDate'].dt.strftime('%d/%m/%y')\n"
   ]
  },
  {
   "cell_type": "code",
   "execution_count": 9,
   "id": "ad0d91aa",
   "metadata": {
    "scrolled": true
   },
   "outputs": [
    {
     "data": {
      "text/html": [
       "<div>\n",
       "<style scoped>\n",
       "    .dataframe tbody tr th:only-of-type {\n",
       "        vertical-align: middle;\n",
       "    }\n",
       "\n",
       "    .dataframe tbody tr th {\n",
       "        vertical-align: top;\n",
       "    }\n",
       "\n",
       "    .dataframe thead th {\n",
       "        text-align: right;\n",
       "    }\n",
       "</style>\n",
       "<table border=\"1\" class=\"dataframe\">\n",
       "  <thead>\n",
       "    <tr style=\"text-align: right;\">\n",
       "      <th></th>\n",
       "      <th>OrderDate</th>\n",
       "      <th>CurrencyCode</th>\n",
       "      <th>Order Quantity</th>\n",
       "      <th>Unit Price</th>\n",
       "    </tr>\n",
       "  </thead>\n",
       "  <tbody>\n",
       "    <tr>\n",
       "      <th>0</th>\n",
       "      <td>06/01/18</td>\n",
       "      <td>USD</td>\n",
       "      <td>62</td>\n",
       "      <td>31845.1</td>\n",
       "    </tr>\n",
       "    <tr>\n",
       "      <th>1</th>\n",
       "      <td>07/01/18</td>\n",
       "      <td>USD</td>\n",
       "      <td>27</td>\n",
       "      <td>14974.5</td>\n",
       "    </tr>\n",
       "    <tr>\n",
       "      <th>2</th>\n",
       "      <td>08/01/18</td>\n",
       "      <td>USD</td>\n",
       "      <td>42</td>\n",
       "      <td>15952.7</td>\n",
       "    </tr>\n",
       "    <tr>\n",
       "      <th>3</th>\n",
       "      <td>09/01/18</td>\n",
       "      <td>USD</td>\n",
       "      <td>36</td>\n",
       "      <td>13949.4</td>\n",
       "    </tr>\n",
       "    <tr>\n",
       "      <th>4</th>\n",
       "      <td>10/01/18</td>\n",
       "      <td>USD</td>\n",
       "      <td>25</td>\n",
       "      <td>14907.5</td>\n",
       "    </tr>\n",
       "    <tr>\n",
       "      <th>...</th>\n",
       "      <td>...</td>\n",
       "      <td>...</td>\n",
       "      <td>...</td>\n",
       "      <td>...</td>\n",
       "    </tr>\n",
       "    <tr>\n",
       "      <th>940</th>\n",
       "      <td>26/12/20</td>\n",
       "      <td>USD</td>\n",
       "      <td>41</td>\n",
       "      <td>16341.3</td>\n",
       "    </tr>\n",
       "    <tr>\n",
       "      <th>941</th>\n",
       "      <td>27/12/20</td>\n",
       "      <td>USD</td>\n",
       "      <td>48</td>\n",
       "      <td>25547.1</td>\n",
       "    </tr>\n",
       "    <tr>\n",
       "      <th>942</th>\n",
       "      <td>28/12/20</td>\n",
       "      <td>USD</td>\n",
       "      <td>56</td>\n",
       "      <td>46183.1</td>\n",
       "    </tr>\n",
       "    <tr>\n",
       "      <th>943</th>\n",
       "      <td>29/12/20</td>\n",
       "      <td>USD</td>\n",
       "      <td>37</td>\n",
       "      <td>18632.7</td>\n",
       "    </tr>\n",
       "    <tr>\n",
       "      <th>944</th>\n",
       "      <td>30/12/20</td>\n",
       "      <td>USD</td>\n",
       "      <td>25</td>\n",
       "      <td>10545.8</td>\n",
       "    </tr>\n",
       "  </tbody>\n",
       "</table>\n",
       "<p>945 rows × 4 columns</p>\n",
       "</div>"
      ],
      "text/plain": [
       "    OrderDate CurrencyCode  Order Quantity  Unit Price\n",
       "0    06/01/18          USD              62     31845.1\n",
       "1    07/01/18          USD              27     14974.5\n",
       "2    08/01/18          USD              42     15952.7\n",
       "3    09/01/18          USD              36     13949.4\n",
       "4    10/01/18          USD              25     14907.5\n",
       "..        ...          ...             ...         ...\n",
       "940  26/12/20          USD              41     16341.3\n",
       "941  27/12/20          USD              48     25547.1\n",
       "942  28/12/20          USD              56     46183.1\n",
       "943  29/12/20          USD              37     18632.7\n",
       "944  30/12/20          USD              25     10545.8\n",
       "\n",
       "[945 rows x 4 columns]"
      ]
     },
     "execution_count": 9,
     "metadata": {},
     "output_type": "execute_result"
    }
   ],
   "source": [
    "df"
   ]
  },
  {
   "cell_type": "code",
   "execution_count": 12,
   "id": "cee34a49",
   "metadata": {},
   "outputs": [
    {
     "data": {
      "text/html": [
       "<div>\n",
       "<style scoped>\n",
       "    .dataframe tbody tr th:only-of-type {\n",
       "        vertical-align: middle;\n",
       "    }\n",
       "\n",
       "    .dataframe tbody tr th {\n",
       "        vertical-align: top;\n",
       "    }\n",
       "\n",
       "    .dataframe thead th {\n",
       "        text-align: right;\n",
       "    }\n",
       "</style>\n",
       "<table border=\"1\" class=\"dataframe\">\n",
       "  <thead>\n",
       "    <tr style=\"text-align: right;\">\n",
       "      <th></th>\n",
       "      <th>Order Quantity</th>\n",
       "      <th>Unit Price</th>\n",
       "      <th>Total Sales</th>\n",
       "    </tr>\n",
       "  </thead>\n",
       "  <tbody>\n",
       "    <tr>\n",
       "      <th>count</th>\n",
       "      <td>945.000000</td>\n",
       "      <td>945.000000</td>\n",
       "      <td>9.450000e+02</td>\n",
       "    </tr>\n",
       "    <tr>\n",
       "      <th>mean</th>\n",
       "      <td>38.266667</td>\n",
       "      <td>19318.234074</td>\n",
       "      <td>8.265076e+05</td>\n",
       "    </tr>\n",
       "    <tr>\n",
       "      <th>std</th>\n",
       "      <td>14.793666</td>\n",
       "      <td>8220.242354</td>\n",
       "      <td>5.980405e+05</td>\n",
       "    </tr>\n",
       "    <tr>\n",
       "      <th>min</th>\n",
       "      <td>2.000000</td>\n",
       "      <td>1031.800000</td>\n",
       "      <td>2.224400e+03</td>\n",
       "    </tr>\n",
       "    <tr>\n",
       "      <th>25%</th>\n",
       "      <td>28.000000</td>\n",
       "      <td>13111.900000</td>\n",
       "      <td>3.753876e+05</td>\n",
       "    </tr>\n",
       "    <tr>\n",
       "      <th>50%</th>\n",
       "      <td>38.000000</td>\n",
       "      <td>18786.800000</td>\n",
       "      <td>6.951116e+05</td>\n",
       "    </tr>\n",
       "    <tr>\n",
       "      <th>75%</th>\n",
       "      <td>48.000000</td>\n",
       "      <td>24649.300000</td>\n",
       "      <td>1.117580e+06</td>\n",
       "    </tr>\n",
       "    <tr>\n",
       "      <th>max</th>\n",
       "      <td>98.000000</td>\n",
       "      <td>48910.000000</td>\n",
       "      <td>3.699660e+06</td>\n",
       "    </tr>\n",
       "  </tbody>\n",
       "</table>\n",
       "</div>"
      ],
      "text/plain": [
       "       Order Quantity    Unit Price   Total Sales\n",
       "count      945.000000    945.000000  9.450000e+02\n",
       "mean        38.266667  19318.234074  8.265076e+05\n",
       "std         14.793666   8220.242354  5.980405e+05\n",
       "min          2.000000   1031.800000  2.224400e+03\n",
       "25%         28.000000  13111.900000  3.753876e+05\n",
       "50%         38.000000  18786.800000  6.951116e+05\n",
       "75%         48.000000  24649.300000  1.117580e+06\n",
       "max         98.000000  48910.000000  3.699660e+06"
      ]
     },
     "execution_count": 12,
     "metadata": {},
     "output_type": "execute_result"
    }
   ],
   "source": [
    "df.describe()"
   ]
  },
  {
   "cell_type": "code",
   "execution_count": 10,
   "id": "14f67996",
   "metadata": {},
   "outputs": [
    {
     "data": {
      "text/plain": [
       "OrderDate          object\n",
       "CurrencyCode       object\n",
       "Order Quantity      int64\n",
       "Unit Price        float64\n",
       "dtype: object"
      ]
     },
     "execution_count": 10,
     "metadata": {},
     "output_type": "execute_result"
    }
   ],
   "source": [
    "df.dtypes\n"
   ]
  },
  {
   "cell_type": "code",
   "execution_count": 11,
   "id": "5de3c04f",
   "metadata": {},
   "outputs": [],
   "source": [
    "df['Total Sales'] = df['Unit Price'] * df['Order Quantity']\n"
   ]
  },
  {
   "cell_type": "code",
   "execution_count": 12,
   "id": "b1fce21b",
   "metadata": {},
   "outputs": [
    {
     "data": {
      "text/plain": [
       "OrderDate         0\n",
       "CurrencyCode      0\n",
       "Order Quantity    0\n",
       "Unit Price        0\n",
       "Total Sales       0\n",
       "dtype: int64"
      ]
     },
     "execution_count": 12,
     "metadata": {},
     "output_type": "execute_result"
    }
   ],
   "source": [
    "df.isna().sum()"
   ]
  },
  {
   "cell_type": "code",
   "execution_count": 13,
   "id": "aa44a211",
   "metadata": {},
   "outputs": [
    {
     "name": "stderr",
     "output_type": "stream",
     "text": [
      "C:\\Users\\AMAN\\anaconda3\\lib\\site-packages\\seaborn\\distributions.py:2619: FutureWarning: `distplot` is a deprecated function and will be removed in a future version. Please adapt your code to use either `displot` (a figure-level function with similar flexibility) or `histplot` (an axes-level function for histograms).\n",
      "  warnings.warn(msg, FutureWarning)\n"
     ]
    },
    {
     "data": {
      "image/png": "[encoded data removed]",
      "text/plain": [
       "<Figure size 864x360 with 1 Axes>"
      ]
     },
     "metadata": {
      "needs_background": "light"
     },
     "output_type": "display_data"
    }
   ],
   "source": [
    "df['Total Sales'] = df['Total Sales'].astype(float)\n",
    "plt.figure(figsize=(12,5))\n",
    "plt.title(\"Price Distirbution Graph\")\n",
    "ax = sns.distplot(df[\"Total Sales\"], color = 'y')"
   ]
  },
  {
   "cell_type": "code",
   "execution_count": 14,
   "id": "1cd74dcb",
   "metadata": {
    "scrolled": true
   },
   "outputs": [
    {
     "name": "stdout",
     "output_type": "stream",
     "text": [
      "1. ADF :  -31.43899449117808\n",
      "2. P-Value :  0.0\n",
      "3. Num Of Lags :  0\n",
      "4. Num Of Observations Used For ADF Regression: 944\n",
      "5. Critical Values :\n",
      "\t 1% :  -3.4372961556318304\n",
      "\t 5% :  -2.864606557310281\n",
      "\t 10% :  -2.568402813173298\n"
     ]
    }
   ],
   "source": [
    "def ad_test(dataset):\n",
    "    \n",
    "    dftest = adfuller(dataset, autolag = 'AIC')\n",
    "    \n",
    "    print(\"1. ADF : \",dftest[0])\n",
    "    print(\"2. P-Value : \", dftest[1])\n",
    "    print(\"3. Num Of Lags : \", dftest[2])\n",
    "    print(\"4. Num Of Observations Used For ADF Regression:\",dftest[3])\n",
    "    print(\"5. Critical Values :\")\n",
    "    for key, val in dftest[4].items():\n",
    "         print(\"\\t\",key, \": \", val)\n",
    "         \n",
    "         \n",
    "ad_test(df['Total Sales'])"
   ]
  },
  {
   "cell_type": "code",
   "execution_count": 15,
   "id": "7574d5f1",
   "metadata": {},
   "outputs": [
    {
     "name": "stdout",
     "output_type": "stream",
     "text": [
      "Performing stepwise search to minimize aic\n",
      " ARIMA(2,0,2)(0,0,0)[0] intercept   : AIC=27830.702, Time=0.72 sec\n",
      " ARIMA(0,0,0)(0,0,0)[0] intercept   : AIC=27824.465, Time=0.03 sec\n",
      " ARIMA(1,0,0)(0,0,0)[0] intercept   : AIC=27825.989, Time=0.05 sec\n",
      " ARIMA(0,0,1)(0,0,0)[0] intercept   : AIC=27825.970, Time=0.07 sec\n",
      " ARIMA(0,0,0)(0,0,0)[0]             : AIC=28832.526, Time=0.02 sec\n",
      " ARIMA(1,0,1)(0,0,0)[0] intercept   : AIC=27827.982, Time=0.13 sec\n",
      "\n",
      "Best model:  ARIMA(0,0,0)(0,0,0)[0] intercept\n",
      "Total fit time: 1.031 seconds\n"
     ]
    }
   ],
   "source": [
    "stepwise_fit = auto_arima(df['Total Sales'], trace=True,\n",
    "suppress_warnings=True)"
   ]
  },
  {
   "cell_type": "code",
   "execution_count": 16,
   "id": "fbed89d7",
   "metadata": {},
   "outputs": [],
   "source": [
    "X = df['Total Sales']\n",
    "size = int(len(X) * 0.66)\n",
    "train, test = X[0:size], X[size:len(X)]\n",
    "history = [x for x in train]\n",
    "predictions = list()"
   ]
  },
  {
   "cell_type": "code",
   "execution_count": 17,
   "id": "e4817cab",
   "metadata": {},
   "outputs": [],
   "source": [
    "seasonal_period = 4  # For weekly data, for example\n",
    "\n",
    "# Calculate the moving average\n",
    "moving_average = df['Total Sales'].rolling(window=seasonal_period, min_periods=1).mean()\n",
    "\n",
    "# Calculate the seasonal factor\n",
    "seasonal_factor = df['Total Sales'] - moving_average"
   ]
  },
  {
   "cell_type": "code",
   "execution_count": 18,
   "id": "73689946",
   "metadata": {},
   "outputs": [
    {
     "data": {
      "text/plain": [
       "0      0.000000e+00\n",
       "1     -7.850424e+05\n",
       "2     -3.462270e+05\n",
       "3     -3.855465e+05\n",
       "4     -1.146102e+05\n",
       "           ...     \n",
       "940    1.561267e+04\n",
       "941    3.991625e+05\n",
       "942    1.383996e+06\n",
       "943   -6.035695e+05\n",
       "944   -9.277473e+05\n",
       "Name: Total Sales, Length: 945, dtype: float64"
      ]
     },
     "execution_count": 18,
     "metadata": {},
     "output_type": "execute_result"
    }
   ],
   "source": [
    "seasonal_factor"
   ]
  },
  {
   "cell_type": "code",
   "execution_count": 19,
   "id": "a4ee1c33",
   "metadata": {},
   "outputs": [],
   "source": [
    "window_size = 10  # Replace with the appropriate window size\n",
    "\n",
    "# Calculate the moving average\n",
    "df['Moving Average'] = df['Order Quantity'].rolling(window=window_size).mean()\n",
    "\n",
    "# Calculate the seasonal factor\n",
    "df['Seasonal Factor'] = df['Order Quantity'] - df['Moving Average']\n",
    "\n",
    "# Drop rows with NaN values in the 'Seasonal Factor' column\n",
    "df.dropna(subset=['Seasonal Factor'], inplace=True)"
   ]
  },
  {
   "cell_type": "code",
   "execution_count": 20,
   "id": "ac02ad84",
   "metadata": {
    "scrolled": false
   },
   "outputs": [
    {
     "data": {
      "text/html": [
       "<div>\n",
       "<style scoped>\n",
       "    .dataframe tbody tr th:only-of-type {\n",
       "        vertical-align: middle;\n",
       "    }\n",
       "\n",
       "    .dataframe tbody tr th {\n",
       "        vertical-align: top;\n",
       "    }\n",
       "\n",
       "    .dataframe thead th {\n",
       "        text-align: right;\n",
       "    }\n",
       "</style>\n",
       "<table border=\"1\" class=\"dataframe\">\n",
       "  <thead>\n",
       "    <tr style=\"text-align: right;\">\n",
       "      <th></th>\n",
       "      <th>OrderDate</th>\n",
       "      <th>CurrencyCode</th>\n",
       "      <th>Order Quantity</th>\n",
       "      <th>Unit Price</th>\n",
       "      <th>Total Sales</th>\n",
       "      <th>Moving Average</th>\n",
       "      <th>Seasonal Factor</th>\n",
       "    </tr>\n",
       "  </thead>\n",
       "  <tbody>\n",
       "    <tr>\n",
       "      <th>9</th>\n",
       "      <td>08/02/18</td>\n",
       "      <td>USD</td>\n",
       "      <td>30</td>\n",
       "      <td>11577.6</td>\n",
       "      <td>347328.0</td>\n",
       "      <td>37.0</td>\n",
       "      <td>-7.0</td>\n",
       "    </tr>\n",
       "    <tr>\n",
       "      <th>10</th>\n",
       "      <td>09/02/18</td>\n",
       "      <td>USD</td>\n",
       "      <td>45</td>\n",
       "      <td>13306.2</td>\n",
       "      <td>598779.0</td>\n",
       "      <td>35.3</td>\n",
       "      <td>9.7</td>\n",
       "    </tr>\n",
       "    <tr>\n",
       "      <th>11</th>\n",
       "      <td>10/02/18</td>\n",
       "      <td>USD</td>\n",
       "      <td>31</td>\n",
       "      <td>24099.9</td>\n",
       "      <td>747096.9</td>\n",
       "      <td>35.7</td>\n",
       "      <td>-4.7</td>\n",
       "    </tr>\n",
       "    <tr>\n",
       "      <th>12</th>\n",
       "      <td>11/02/18</td>\n",
       "      <td>USD</td>\n",
       "      <td>39</td>\n",
       "      <td>10418.5</td>\n",
       "      <td>406321.5</td>\n",
       "      <td>35.4</td>\n",
       "      <td>3.6</td>\n",
       "    </tr>\n",
       "    <tr>\n",
       "      <th>13</th>\n",
       "      <td>12/02/18</td>\n",
       "      <td>USD</td>\n",
       "      <td>35</td>\n",
       "      <td>13132.0</td>\n",
       "      <td>459620.0</td>\n",
       "      <td>35.3</td>\n",
       "      <td>-0.3</td>\n",
       "    </tr>\n",
       "    <tr>\n",
       "      <th>...</th>\n",
       "      <td>...</td>\n",
       "      <td>...</td>\n",
       "      <td>...</td>\n",
       "      <td>...</td>\n",
       "      <td>...</td>\n",
       "      <td>...</td>\n",
       "      <td>...</td>\n",
       "    </tr>\n",
       "    <tr>\n",
       "      <th>940</th>\n",
       "      <td>26/12/20</td>\n",
       "      <td>USD</td>\n",
       "      <td>41</td>\n",
       "      <td>16341.3</td>\n",
       "      <td>669993.3</td>\n",
       "      <td>42.4</td>\n",
       "      <td>-1.4</td>\n",
       "    </tr>\n",
       "    <tr>\n",
       "      <th>941</th>\n",
       "      <td>27/12/20</td>\n",
       "      <td>USD</td>\n",
       "      <td>48</td>\n",
       "      <td>25547.1</td>\n",
       "      <td>1226260.8</td>\n",
       "      <td>41.5</td>\n",
       "      <td>6.5</td>\n",
       "    </tr>\n",
       "    <tr>\n",
       "      <th>942</th>\n",
       "      <td>28/12/20</td>\n",
       "      <td>USD</td>\n",
       "      <td>56</td>\n",
       "      <td>46183.1</td>\n",
       "      <td>2586253.6</td>\n",
       "      <td>44.0</td>\n",
       "      <td>12.0</td>\n",
       "    </tr>\n",
       "    <tr>\n",
       "      <th>943</th>\n",
       "      <td>29/12/20</td>\n",
       "      <td>USD</td>\n",
       "      <td>37</td>\n",
       "      <td>18632.7</td>\n",
       "      <td>689409.9</td>\n",
       "      <td>45.5</td>\n",
       "      <td>-8.5</td>\n",
       "    </tr>\n",
       "    <tr>\n",
       "      <th>944</th>\n",
       "      <td>30/12/20</td>\n",
       "      <td>USD</td>\n",
       "      <td>25</td>\n",
       "      <td>10545.8</td>\n",
       "      <td>263645.0</td>\n",
       "      <td>41.9</td>\n",
       "      <td>-16.9</td>\n",
       "    </tr>\n",
       "  </tbody>\n",
       "</table>\n",
       "<p>936 rows × 7 columns</p>\n",
       "</div>"
      ],
      "text/plain": [
       "    OrderDate CurrencyCode  Order Quantity  Unit Price  Total Sales  \\\n",
       "9    08/02/18          USD              30     11577.6     347328.0   \n",
       "10   09/02/18          USD              45     13306.2     598779.0   \n",
       "11   10/02/18          USD              31     24099.9     747096.9   \n",
       "12   11/02/18          USD              39     10418.5     406321.5   \n",
       "13   12/02/18          USD              35     13132.0     459620.0   \n",
       "..        ...          ...             ...         ...          ...   \n",
       "940  26/12/20          USD              41     16341.3     669993.3   \n",
       "941  27/12/20          USD              48     25547.1    1226260.8   \n",
       "942  28/12/20          USD              56     46183.1    2586253.6   \n",
       "943  29/12/20          USD              37     18632.7     689409.9   \n",
       "944  30/12/20          USD              25     10545.8     263645.0   \n",
       "\n",
       "     Moving Average  Seasonal Factor  \n",
       "9              37.0             -7.0  \n",
       "10             35.3              9.7  \n",
       "11             35.7             -4.7  \n",
       "12             35.4              3.6  \n",
       "13             35.3             -0.3  \n",
       "..              ...              ...  \n",
       "940            42.4             -1.4  \n",
       "941            41.5              6.5  \n",
       "942            44.0             12.0  \n",
       "943            45.5             -8.5  \n",
       "944            41.9            -16.9  \n",
       "\n",
       "[936 rows x 7 columns]"
      ]
     },
     "execution_count": 20,
     "metadata": {},
     "output_type": "execute_result"
    }
   ],
   "source": [
    "df"
   ]
  },
  {
   "cell_type": "code",
   "execution_count": 21,
   "id": "8f110dfd",
   "metadata": {},
   "outputs": [
    {
     "name": "stderr",
     "output_type": "stream",
     "text": [
      "C:\\Users\\AMAN\\anaconda3\\lib\\site-packages\\statsmodels\\graphics\\tsaplots.py:348: FutureWarning: The default method 'yw' can produce PACF values outside of the [-1,1] interval. After 0.13, the default will change tounadjusted Yule-Walker ('ywm'). You can use this method now by setting method='ywm'.\n",
      "  warnings.warn(\n"
     ]
    },
    {
     "data": {
      "image/png": "[encoded data removed]",
      "text/plain": [
       "<Figure size 864x576 with 2 Axes>"
      ]
     },
     "metadata": {
      "needs_background": "light"
     },
     "output_type": "display_data"
    }
   ],
   "source": [
    "fig, (ax1, ax2) = plt.subplots(2, 1, figsize=(12, 8))\n",
    "\n",
    "# ACF plot\n",
    "plot_acf(df['Total Sales'], lags=40, ax=ax1)\n",
    "ax1.set_title('Autocorrelation Function (ACF)')\n",
    "\n",
    "# PACF plot\n",
    "plot_pacf(df['Total Sales'], lags=40, ax=ax2)\n",
    "ax2.set_title('Partial Autocorrelation Function (PACF)')\n",
    "\n",
    "plt.show()"
   ]
  },
  {
   "cell_type": "code",
   "execution_count": 22,
   "id": "fe113435",
   "metadata": {
    "scrolled": true
   },
   "outputs": [
    {
     "data": {
      "text/plain": [
       "OrderDate          0\n",
       "CurrencyCode       0\n",
       "Order Quantity     0\n",
       "Unit Price         0\n",
       "Total Sales        0\n",
       "Moving Average     0\n",
       "Seasonal Factor    0\n",
       "dtype: int64"
      ]
     },
     "execution_count": 22,
     "metadata": {},
     "output_type": "execute_result"
    }
   ],
   "source": [
    "df.isna().sum()"
   ]
  },
  {
   "cell_type": "code",
   "execution_count": 23,
   "id": "a6eeb344",
   "metadata": {},
   "outputs": [],
   "source": [
    "df['OrderDate'] = pd.to_datetime(df['OrderDate'], format='%d/%m/%y')\n",
    "df.set_index('OrderDate', inplace=True)\n"
   ]
  },
  {
   "cell_type": "markdown",
   "id": "eeb8ca22",
   "metadata": {},
   "source": [
    "Model Training and Building"
   ]
  },
  {
   "cell_type": "code",
   "execution_count": 26,
   "id": "bb81628d",
   "metadata": {
    "scrolled": false
   },
   "outputs": [
    {
     "name": "stderr",
     "output_type": "stream",
     "text": [
      "C:\\Users\\AMAN\\anaconda3\\lib\\site-packages\\statsmodels\\tsa\\base\\tsa_model.py:471: ValueWarning: A date index has been provided, but it has no associated frequency information and so will be ignored when e.g. forecasting.\n",
      "  self._init_dates(dates, freq)\n",
      "C:\\Users\\AMAN\\anaconda3\\lib\\site-packages\\statsmodels\\tsa\\base\\tsa_model.py:471: ValueWarning: A date index has been provided, but it has no associated frequency information and so will be ignored when e.g. forecasting.\n",
      "  self._init_dates(dates, freq)\n",
      "C:\\Users\\AMAN\\anaconda3\\lib\\site-packages\\statsmodels\\tsa\\base\\tsa_model.py:471: ValueWarning: A date index has been provided, but it has no associated frequency information and so will be ignored when e.g. forecasting.\n",
      "  self._init_dates(dates, freq)\n",
      "C:\\Users\\AMAN\\anaconda3\\lib\\site-packages\\statsmodels\\tsa\\statespace\\sarimax.py:966: UserWarning: Non-stationary starting autoregressive parameters found. Using zeros as starting parameters.\n",
      "  warn('Non-stationary starting autoregressive parameters'\n",
      "C:\\Users\\AMAN\\anaconda3\\lib\\site-packages\\statsmodels\\tsa\\statespace\\sarimax.py:978: UserWarning: Non-invertible starting MA parameters found. Using zeros as starting parameters.\n",
      "  warn('Non-invertible starting MA parameters found.'\n",
      "C:\\Users\\AMAN\\anaconda3\\lib\\site-packages\\statsmodels\\base\\model.py:604: ConvergenceWarning: Maximum Likelihood optimization failed to converge. Check mle_retvals\n",
      "  warnings.warn(\"Maximum Likelihood optimization failed to \"\n",
      "C:\\Users\\AMAN\\anaconda3\\lib\\site-packages\\statsmodels\\tsa\\base\\tsa_model.py:834: ValueWarning: No supported index is available. Prediction results will be given with an integer index beginning at `start`.\n",
      "  return get_prediction_index(\n"
     ]
    },
    {
     "name": "stdout",
     "output_type": "stream",
     "text": [
      "RMSE: 316520.263168887\n",
      "R2 Score: 0.6577904808910784\n"
     ]
    },
    {
     "data": {
      "image/png": "[encoded data removed]",
      "text/plain": [
       "<Figure size 864x432 with 1 Axes>"
      ]
     },
     "metadata": {
      "needs_background": "light"
     },
     "output_type": "display_data"
    }
   ],
   "source": [
    "# Split the dataset into training and testing sets\n",
    "train = df['2018-01-06':'2019-12-31']\n",
    "test = df['2020-01-01':'2020-12-31']\n",
    "\n",
    "# Define the order for the ARIMA model\n",
    "p, d, q = 38, 0, 18\n",
    "\n",
    "\n",
    "# Exogenous variable (external factor): 'Discount Applied'\n",
    "exog_train = train[['Seasonal Factor']]\n",
    "exog_test = test[['Seasonal Factor']]\n",
    "\n",
    "from statsmodels.tsa.statespace.sarimax import SARIMAX\n",
    "\n",
    "# Fit the SARIMA model with exogenous variables\n",
    "model = ARIMA(train['Total Sales'], order=(p, d, q), exog=exog_train)\n",
    "model_fit = model.fit()\n",
    "\n",
    "# Make predictions for the test set\n",
    "forecast = model_fit.get_forecast(steps=len(test), exog=exog_test)\n",
    "forecast_mean = forecast.predicted_mean\n",
    "\n",
    "# Calculate the Root Mean Squared Error (RMSE) as a measure of model accuracy\n",
    "rmse_val = np.sqrt(mean_squared_error(test['Total Sales'], forecast_mean))\n",
    "print(f\"RMSE: {rmse_val}\")\n",
    "r2 = r2_score(test['Total Sales'], forecast_mean)\n",
    "print(f\"R2 Score: {r2}\")\n",
    "\n",
    "# Plot the actual vs. forecasted values\n",
    "plt.figure(figsize=(12, 6))\n",
    "plt.plot(train.index, train['Total Sales'], label='Training Data')\n",
    "plt.plot(test.index, test['Total Sales'], label='Actual Demand')\n",
    "plt.plot(test.index, forecast_mean, label='Forecasted Demand', color='red')\n",
    "plt.legend()\n",
    "plt.title('Actual vs. Forecasted Demand')\n",
    "plt.show()"
   ]
  },
  {
   "cell_type": "code",
   "execution_count": 27,
   "id": "af2393ba",
   "metadata": {},
   "outputs": [
    {
     "name": "stdout",
     "output_type": "stream",
     "text": [
      "        Actual     Predicted\n",
      "0      56139.3  4.895007e+03\n",
      "1     237876.8  6.319134e+05\n",
      "2     360192.0  6.146680e+05\n",
      "3     746085.2  1.031459e+06\n",
      "4     521434.2  8.466766e+05\n",
      "..         ...           ...\n",
      "360   669993.3  7.732312e+05\n",
      "361  1226260.8  1.074109e+06\n",
      "362  2586253.6  1.283990e+06\n",
      "363   689409.9  5.222886e+05\n",
      "364   263645.0  2.092405e+05\n",
      "\n",
      "[365 rows x 2 columns]\n"
     ]
    }
   ],
   "source": [
    "# Reset the index for the test and forecast_mean DataFrames\n",
    "test = test.reset_index()\n",
    "forecast_mean = forecast_mean.reset_index()\n",
    "\n",
    "# Create a DataFrame with the actual and predicted values\n",
    "actual_vs_predicted = pd.DataFrame({'Actual': test['Total Sales'], 'Predicted': forecast_mean['predicted_mean']})\n",
    "\n",
    "# Print the DataFrame\n",
    "print(actual_vs_predicted)\n"
   ]
  }
 ],
 "metadata": {
  "kernelspec": {
   "display_name": "Python 3 (ipykernel)",
   "language": "python",
   "name": "python3"
  },
  "language_info": {
   "codemirror_mode": {
    "name": "ipython",
    "version": 3
   },
   "file_extension": ".py",
   "mimetype": "text/x-python",
   "name": "python",
   "nbconvert_exporter": "python",
   "pygments_lexer": "ipython3",
   "version": "3.9.12"
  }
 },
 "nbformat": 4,
 "nbformat_minor": 5
}
